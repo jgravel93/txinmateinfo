{
 "cells": [
  {
   "cell_type": "code",
   "execution_count": 1,
   "metadata": {
    "collapsed": false
   },
   "outputs": [],
   "source": [
    "from inmatesearch import *\n",
    "pd.set_option(\"display.max_columns\",14)"
   ]
  },
  {
   "cell_type": "markdown",
   "metadata": {},
   "source": [
    "# Use these fields to simply test the code\n",
    "\n"
   ]
  },
  {
   "cell_type": "code",
   "execution_count": 2,
   "metadata": {
    "collapsed": true
   },
   "outputs": [],
   "source": [
    "filepath='sid.csv'\n",
    "header=None\n",
    "names=[\"SID\"]\n",
    "idfield=\"SID\"\n",
    "\n",
    "savepath=None"
   ]
  },
  {
   "cell_type": "markdown",
   "metadata": {},
   "source": [
    "# Specify these fields if you want to use your own set of ids\n",
    "(It is possible that the code fails, since I haven't tested it extensively beyond the example IDs)"
   ]
  },
  {
   "cell_type": "code",
   "execution_count": null,
   "metadata": {
    "collapsed": true
   },
   "outputs": [],
   "source": [
    "#Enter the full path for your file where the SIDs are stored \n",
    "filepath=\"/path/yourfile.csv\"\n",
    "#Enter the row number of the csv file where column names are stored starting by 0 (i.e. 0 is the first row)\n",
    "#If your csv file has no column names, enter None (as below)\n",
    "header=None\n",
    "#Enter the column names if your file does not have any.\n",
    "names=[\"SID\"]\n",
    "#Specify the column names where the SIDs are stored.\n",
    "idfield=\"SID\"\n",
    "#specify the full path for the output file ending by \".txt\".If you do not wish to save enter None\n",
    "savepath=\"/path/output.txt\"\n"
   ]
  },
  {
   "cell_type": "code",
   "execution_count": 3,
   "metadata": {
    "collapsed": false
   },
   "outputs": [],
   "source": [
    "table=getInmateInfo(filepath=filepath,header=header,names=names, idfield=idfield,savepath=savepath)"
   ]
  },
  {
   "cell_type": "code",
   "execution_count": 8,
   "metadata": {
    "collapsed": false
   },
   "outputs": [
    {
     "data": {
      "text/html": [
       "<div>\n",
       "<table border=\"1\" class=\"dataframe\">\n",
       "  <thead>\n",
       "    <tr style=\"text-align: right;\">\n",
       "      <th></th>\n",
       "      <th>SID Number</th>\n",
       "      <th>TDCJ Number</th>\n",
       "      <th>Name</th>\n",
       "      <th>Race</th>\n",
       "      <th>Gender</th>\n",
       "      <th>DOB</th>\n",
       "      <th>Maximum Sentence Date</th>\n",
       "      <th>Current Facility</th>\n",
       "      <th>Projected Release Date</th>\n",
       "    </tr>\n",
       "  </thead>\n",
       "  <tbody>\n",
       "    <tr>\n",
       "      <th>0</th>\n",
       "      <td>02948864</td>\n",
       "      <td>01207094</td>\n",
       "      <td>MARTINEZ,JACK LEE</td>\n",
       "      <td>W</td>\n",
       "      <td>M</td>\n",
       "      <td>1959-01-16</td>\n",
       "      <td>2052-05-22</td>\n",
       "      <td>ALFRED HUGHES</td>\n",
       "      <td>2052-05-22</td>\n",
       "    </tr>\n",
       "    <tr>\n",
       "      <th>1</th>\n",
       "      <td>07746033</td>\n",
       "      <td>01552933</td>\n",
       "      <td>MARTINEZ,JACKSON</td>\n",
       "      <td>H</td>\n",
       "      <td>M</td>\n",
       "      <td>1988-10-07</td>\n",
       "      <td>2048-02-03</td>\n",
       "      <td>DARRINGTON</td>\n",
       "      <td>2048-02-03</td>\n",
       "    </tr>\n",
       "    <tr>\n",
       "      <th>2</th>\n",
       "      <td>06158138</td>\n",
       "      <td>01791013</td>\n",
       "      <td>MARTINEZ,JACOB</td>\n",
       "      <td>H</td>\n",
       "      <td>M</td>\n",
       "      <td>1981-12-02</td>\n",
       "      <td>2018-02-13</td>\n",
       "      <td>DARRINGTON</td>\n",
       "      <td>2018-02-13</td>\n",
       "    </tr>\n",
       "    <tr>\n",
       "      <th>3</th>\n",
       "      <td>06403653</td>\n",
       "      <td>01877081</td>\n",
       "      <td>MARTINEZ,JACOB</td>\n",
       "      <td>H</td>\n",
       "      <td>M</td>\n",
       "      <td>1985-02-14</td>\n",
       "      <td>2017-12-15</td>\n",
       "      <td>MICHAEL</td>\n",
       "      <td>2017-12-15</td>\n",
       "    </tr>\n",
       "    <tr>\n",
       "      <th>4</th>\n",
       "      <td>04381375</td>\n",
       "      <td>01262427</td>\n",
       "      <td>MARTINEZ,JACOB</td>\n",
       "      <td>H</td>\n",
       "      <td>M</td>\n",
       "      <td>1972-12-15</td>\n",
       "      <td>2063-06-13</td>\n",
       "      <td>POLUNSKY</td>\n",
       "      <td>2063-06-13</td>\n",
       "    </tr>\n",
       "    <tr>\n",
       "      <th>5</th>\n",
       "      <td>07934320</td>\n",
       "      <td>02030663</td>\n",
       "      <td>MARTINEZ,JACOB AARON</td>\n",
       "      <td>H</td>\n",
       "      <td>M</td>\n",
       "      <td>1992-11-23</td>\n",
       "      <td>2021-06-02</td>\n",
       "      <td>CLEMENS</td>\n",
       "      <td>2018-02-11</td>\n",
       "    </tr>\n",
       "  </tbody>\n",
       "</table>\n",
       "</div>"
      ],
      "text/plain": [
       "  SID Number TDCJ Number                  Name Race Gender         DOB  \\\n",
       "0   02948864    01207094     MARTINEZ,JACK LEE    W      M  1959-01-16   \n",
       "1   07746033    01552933      MARTINEZ,JACKSON    H      M  1988-10-07   \n",
       "2   06158138    01791013        MARTINEZ,JACOB    H      M  1981-12-02   \n",
       "3   06403653    01877081        MARTINEZ,JACOB    H      M  1985-02-14   \n",
       "4   04381375    01262427        MARTINEZ,JACOB    H      M  1972-12-15   \n",
       "5   07934320    02030663  MARTINEZ,JACOB AARON    H      M  1992-11-23   \n",
       "\n",
       "  Maximum Sentence Date Current Facility Projected Release Date  \n",
       "0            2052-05-22    ALFRED HUGHES             2052-05-22  \n",
       "1            2048-02-03       DARRINGTON             2048-02-03  \n",
       "2            2018-02-13       DARRINGTON             2018-02-13  \n",
       "3            2017-12-15          MICHAEL             2017-12-15  \n",
       "4            2063-06-13         POLUNSKY             2063-06-13  \n",
       "5            2021-06-02          CLEMENS             2018-02-11  "
      ]
     },
     "execution_count": 8,
     "metadata": {},
     "output_type": "execute_result"
    }
   ],
   "source": [
    "#Prints the output for the first 9 variables and 6 first cases\n",
    "table[['SID Number',\n",
    "     'TDCJ Number',\n",
    "     'Name',\n",
    "     'Race',\n",
    "     'Gender',\n",
    "     'DOB',\n",
    "     'Maximum Sentence Date',\n",
    "     'Current Facility',\n",
    "     'Projected Release Date',]].head(6)"
   ]
  },
  {
   "cell_type": "code",
   "execution_count": null,
   "metadata": {
    "collapsed": true
   },
   "outputs": [],
   "source": []
  }
 ],
 "metadata": {
  "kernelspec": {
   "display_name": "Python 3",
   "language": "python",
   "name": "python3"
  },
  "language_info": {
   "codemirror_mode": {
    "name": "ipython",
    "version": 3
   },
   "file_extension": ".py",
   "mimetype": "text/x-python",
   "name": "python",
   "nbconvert_exporter": "python",
   "pygments_lexer": "ipython3",
   "version": "3.5.2"
  }
 },
 "nbformat": 4,
 "nbformat_minor": 0
}
