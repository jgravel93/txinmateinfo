{
 "cells": [
  {
   "cell_type": "code",
   "execution_count": 110,
   "metadata": {
    "collapsed": true
   },
   "outputs": [],
   "source": [
    "import urllib.request\n",
    "import time\n",
    "import pandas as pd\n",
    "import math\n",
    "from bs4 import BeautifulSoup"
   ]
  },
  {
   "cell_type": "code",
   "execution_count": 144,
   "metadata": {
    "collapsed": false
   },
   "outputs": [],
   "source": [
    "def getIDs(filepath, header=None, names=None, idfield=None):\n",
    "    if header!=None:\n",
    "        df=pd.read_csv(filepath, header=header)\n",
    "    else:\n",
    "        if names==None:\n",
    "            return 'Please provide the columns names in the following form: names=[\"column_name1\",\"column_name2\",\"column_name3\"]'\n",
    "        else:\n",
    "            df=pd.read_csv(filepath, header=header, names=names)\n",
    "    if idfield==None:\n",
    "        return 'Please provide the columns name containing the ids in the following form: idfield=\"yourIDfield\"'\n",
    "    else:\n",
    "        sids=['%08d'% int(x) for x in df[idfield].tolist() if math.isnan(x)==False]\n",
    "    \n",
    "    \n",
    "    return sids\n",
    "    \n",
    "        \n",
    "    "
   ]
  },
  {
   "cell_type": "code",
   "execution_count": 11,
   "metadata": {
    "collapsed": true
   },
   "outputs": [],
   "source": [
    "\n",
    "def getInmateInfo(filepath, header=None, names=None, idfield=None, savepath=None):\n",
    "    url='https://offender.tdcj.texas.gov/OffenderSearch/offenderDetail.action?sid='\n",
    "    sids=getIDs(filepath,header=header,names=names, idfield=idfield)\n",
    "    inmates={}\n",
    "    maxhxnum=0\n",
    "    colnames=['SID Number',\n",
    "     'TDCJ Number',\n",
    "     'Name',\n",
    "     'Race',\n",
    "     'Gender',\n",
    "     'DOB',\n",
    "     'Maximum Sentence Date',\n",
    "     'Current Facility',\n",
    "     'Projected Release Date',\n",
    "     'Parole Eligibility Date',\n",
    "     'Offender Visitation Eligible',\n",
    "     'Scheduled Release Date',\n",
    "     'Scheduled Release Type',\n",
    "     'Scheduled Release Location',]\n",
    "\n",
    "    for e,s in enumerate(sids):\n",
    "        time.sleep(1)\n",
    "        r=urllib.request.urlopen(url+str(s))\n",
    "        soup=BeautifulSoup(r, 'lxml')\n",
    "        fields=soup.findAll('div',class_=\"basic_os_left_column\")\n",
    "        values=soup.findAll('div',class_=\"basic_os_right_column\")\n",
    "        fields=[x.get_text().rstrip().lstrip().replace(':','') for x in fields]\n",
    "        values=[x.get_text().rstrip().lstrip() for x in values]\n",
    "\n",
    "        fvs=list(zip(fields,values))\n",
    "        values_hx=[x.get_text().rstrip().lstrip() for x in soup.table.findAll('tr')]\n",
    "        inmates[e]={}\n",
    "        for(f,v) in fvs:\n",
    "            inmates[e][str(f)]=v\n",
    "        fields_hx=[x for x in values_hx[0].split('\\n')]\n",
    "        values_hx2=[[y for y in x.split('\\n')] for x in values_hx[1:]]\n",
    "        hx={}\n",
    "        for enu,fi in enumerate(fields_hx):\n",
    "            for en, val in enumerate(values_hx2):\n",
    "                label=str(fi)+'_%d'% en\n",
    "                value=val[enu]\n",
    "                hx[label]=value\n",
    "                if en>=maxhxnum:\n",
    "                    maxhxnum=en\n",
    "        for key,vals in hx.items():\n",
    "            inmates[e][key]=vals\n",
    "\n",
    "    for n in range(0,maxhxnum):\n",
    "        newcols=['Offense Date_%d' % n, 'Offense_%d' % n,'Sentence Date_%d' % n,'County_%d' % n,'Case No._%d' % n,'Sentence (YY-MM-DD)_%d' % n]\n",
    "        for c in newcols:\n",
    "            colnames.append(c)\n",
    "\n",
    "    df2=pd.DataFrame.from_dict(inmates,orient=\"index\")\n",
    "    df2=df2[colnames]\n",
    "    if savepath==None:\n",
    "        return 'Please provide the path and filename where the file should be saved (i.e. \"/path/filename.csv\")'\n",
    "    else:\n",
    "        \n",
    "        df2.to_csv(savepath,sep='\\t')\n",
    "        \n",
    "        \n",
    "\n",
    "\n",
    "    "
   ]
  },
  {
   "cell_type": "code",
   "execution_count": null,
   "metadata": {
    "collapsed": true
   },
   "outputs": [],
   "source": []
  }
 ],
 "metadata": {
  "kernelspec": {
   "display_name": "Python 3",
   "language": "python",
   "name": "python3"
  },
  "language_info": {
   "codemirror_mode": {
    "name": "ipython",
    "version": 3
   },
   "file_extension": ".py",
   "mimetype": "text/x-python",
   "name": "python",
   "nbconvert_exporter": "python",
   "pygments_lexer": "ipython3",
   "version": "3.5.2"
  }
 },
 "nbformat": 4,
 "nbformat_minor": 0
}
